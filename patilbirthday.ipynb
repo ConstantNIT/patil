{
 "cells": [
  {
   "cell_type": "markdown",
   "metadata": {},
   "source": [
    "# <h1><center><b>Happy Birthday Patil!</b></center></h1>"
   ]
  },
  {
   "cell_type": "code",
   "execution_count": 35,
   "metadata": {},
   "outputs": [],
   "source": [
    "import os\n",
    "from IPython.display import HTML, display"
   ]
  },
  {
   "cell_type": "code",
   "execution_count": 52,
   "metadata": {},
   "outputs": [],
   "source": [
    "videolist = ['intro.mp4','ramanintro.mp4','neelamgunmala.mp4','jeetbhaipatel.mp4', 'arun.mp4', 'suvil.mp4', 'ankita.mp4', 'laddoo.mp4','mandar.mp4']\n",
    "imagelist = [ 'patil.jpg','raman.png', 'neelam.jpg', 'jeet.jpg', 'arun.jpg','suvil.jpg','ankita.jpg',  'laddoo.jpg', 'mandar.jpg']"
   ]
  },
  {
   "cell_type": "code",
   "execution_count": 53,
   "metadata": {},
   "outputs": [],
   "source": [
    "def displayIV(img,vid):\n",
    "    display(HTML(\"\"\"<table><tr><td><img src='Images/{}'  width=\"300\"></td><td><video alt=\"test\"  height=\"300\" controls><source src=\"Videos/{}\" type=\"video/mp4\"></video></td></tr></table>\"\"\".format(img, vid)))"
   ]
  },
  {
   "cell_type": "code",
   "execution_count": 54,
   "metadata": {},
   "outputs": [],
   "source": [
    "def displayV(vid):\n",
    "    display(HTML(\"\"\"<table><tr><td><video alt=\"test\"  height=\"300\" controls><source src=\"Videos/{}\" type=\"video/mp4\"></video></td></tr></table>\"\"\".format(vid)))"
   ]
  },
  {
   "cell_type": "code",
   "execution_count": 55,
   "metadata": {},
   "outputs": [],
   "source": [
    "def displaySideBySide(img1,vid1,img2,vid2):\n",
    "    display(HTML(\"\"\"<table><tr><td><img src='Images/{}'  width=\"300\"></td><td><video alt=\"test\"  height=\"300\" controls><source src=\"Videos/{}\" type=\"video/mp4\"></video></td> \\\n",
    "                            <td><img src='Images/white.jpg'  width=\"100\"></td><td> \\\n",
    "                            <img src='Images/{}'  width=\"300\"></td><td><video alt=\"test\"  height=\"300\" controls><source src=\"Videos/{}\" type=\"video/mp4\"></video></td></tr></table>\"\"\".format(img1, vid1, img2, vid2)))"
   ]
  },
  {
   "cell_type": "code",
   "execution_count": 56,
   "metadata": {},
   "outputs": [
    {
     "data": {
      "text/html": [
       "<table><tr><td><img src='Images/patil.jpg'  width=\"300\"></td><td><video alt=\"test\"  height=\"300\" controls><source src=\"Videos/intro.mp4\" type=\"video/mp4\"></video></td></tr></table>"
      ],
      "text/plain": [
       "<IPython.core.display.HTML object>"
      ]
     },
     "metadata": {},
     "output_type": "display_data"
    },
    {
     "data": {
      "text/html": [
       "<table><tr><td><img src='Images/raman.png'  width=\"300\"></td><td><video alt=\"test\"  height=\"300\" controls><source src=\"Videos/ramanintro.mp4\" type=\"video/mp4\"></video></td></tr></table>"
      ],
      "text/plain": [
       "<IPython.core.display.HTML object>"
      ]
     },
     "metadata": {},
     "output_type": "display_data"
    },
    {
     "data": {
      "text/html": [
       "<table><tr><td><img src='Images/neelam.jpg'  width=\"300\"></td><td><video alt=\"test\"  height=\"300\" controls><source src=\"Videos/neelamgunmala.mp4\" type=\"video/mp4\"></video></td></tr></table>"
      ],
      "text/plain": [
       "<IPython.core.display.HTML object>"
      ]
     },
     "metadata": {},
     "output_type": "display_data"
    },
    {
     "data": {
      "text/html": [
       "<table><tr><td><img src='Images/jeet.jpg'  width=\"300\"></td><td><video alt=\"test\"  height=\"300\" controls><source src=\"Videos/jeetbhaipatel.mp4\" type=\"video/mp4\"></video></td></tr></table>"
      ],
      "text/plain": [
       "<IPython.core.display.HTML object>"
      ]
     },
     "metadata": {},
     "output_type": "display_data"
    }
   ],
   "source": [
    "for img, vid in zip(imagelist[:4], videolist[:4]):\n",
    "    displayIV(img, vid)"
   ]
  },
  {
   "cell_type": "markdown",
   "metadata": {},
   "source": [
    "# <h1><center><b>Birthday Wishes from Marvell Semiconductor (Tomar Sahab) and Your Ex Roommate (Suvil)</b></center></h1>"
   ]
  },
  {
   "cell_type": "code",
   "execution_count": 57,
   "metadata": {},
   "outputs": [
    {
     "data": {
      "text/html": [
       "<table><tr><td><img src='Images/arun.jpg'  width=\"300\"></td><td><video alt=\"test\"  height=\"300\" controls><source src=\"Videos/arun.mp4\" type=\"video/mp4\"></video></td>                             <td><img src='Images/white.jpg'  width=\"100\"></td><td>                             <img src='Images/suvil.jpg'  width=\"300\"></td><td><video alt=\"test\"  height=\"300\" controls><source src=\"Videos/suvil.mp4\" type=\"video/mp4\"></video></td></tr></table>"
      ],
      "text/plain": [
       "<IPython.core.display.HTML object>"
      ]
     },
     "metadata": {},
     "output_type": "display_data"
    }
   ],
   "source": [
    "displaySideBySide(imagelist[-5], videolist[-5], imagelist[-4], videolist[-4])"
   ]
  },
  {
   "cell_type": "markdown",
   "metadata": {},
   "source": [
    "# <h1><center><b>Ankita</b></center></h1>"
   ]
  },
  {
   "cell_type": "code",
   "execution_count": 58,
   "metadata": {},
   "outputs": [
    {
     "data": {
      "text/html": [
       "<table><tr><td><img src='Images/ankita.jpg'  width=\"300\"></td><td><video alt=\"test\"  height=\"300\" controls><source src=\"Videos/ankita.mp4\" type=\"video/mp4\"></video></td>                             <td><img src='Images/white.jpg'  width=\"100\"></td><td>                             <img src='Images/ankita.jpg'  width=\"300\"></td><td><video alt=\"test\"  height=\"300\" controls><source src=\"Videos/ankita.mp4\" type=\"video/mp4\"></video></td></tr></table>"
      ],
      "text/plain": [
       "<IPython.core.display.HTML object>"
      ]
     },
     "metadata": {},
     "output_type": "display_data"
    }
   ],
   "source": [
    "displaySideBySide(imagelist[-3], videolist[-3], imagelist[-3], videolist[-3])"
   ]
  },
  {
   "cell_type": "markdown",
   "metadata": {},
   "source": [
    "# <h1><center><b>Laddoo and Mandar (@IEDM)</b></center></h1>"
   ]
  },
  {
   "cell_type": "code",
   "execution_count": 59,
   "metadata": {},
   "outputs": [
    {
     "data": {
      "text/html": [
       "<table><tr><td><img src='Images/laddoo.jpg'  width=\"300\"></td><td><video alt=\"test\"  height=\"300\" controls><source src=\"Videos/laddoo.mp4\" type=\"video/mp4\"></video></td>                             <td><img src='Images/white.jpg'  width=\"100\"></td><td>                             <img src='Images/mandar.jpg'  width=\"300\"></td><td><video alt=\"test\"  height=\"300\" controls><source src=\"Videos/mandar.mp4\" type=\"video/mp4\"></video></td></tr></table>"
      ],
      "text/plain": [
       "<IPython.core.display.HTML object>"
      ]
     },
     "metadata": {},
     "output_type": "display_data"
    }
   ],
   "source": [
    "displaySideBySide(imagelist[-2], videolist[-2], imagelist[-1], videolist[-1])"
   ]
  },
  {
   "cell_type": "markdown",
   "metadata": {},
   "source": [
    "# <h1><center><b>Miscellaneous</b></center></h1>"
   ]
  },
  {
   "cell_type": "code",
   "execution_count": 60,
   "metadata": {},
   "outputs": [
    {
     "data": {
      "text/html": [
       "<table><tr><td><img src='Images/patil3.jpg'  width=\"300\"></td><td><video alt=\"test\"  height=\"300\" controls><source src=\"Videos/misc1.mp4\" type=\"video/mp4\"></video></td></tr></table>"
      ],
      "text/plain": [
       "<IPython.core.display.HTML object>"
      ]
     },
     "metadata": {},
     "output_type": "display_data"
    }
   ],
   "source": [
    "displayIV('patil3.jpg','misc1.mp4')"
   ]
  },
  {
   "cell_type": "code",
   "execution_count": null,
   "metadata": {},
   "outputs": [],
   "source": []
  }
 ],
 "metadata": {
  "kernelspec": {
   "display_name": "Python 3",
   "language": "python",
   "name": "python3"
  },
  "language_info": {
   "codemirror_mode": {
    "name": "ipython",
    "version": 3
   },
   "file_extension": ".py",
   "mimetype": "text/x-python",
   "name": "python",
   "nbconvert_exporter": "python",
   "pygments_lexer": "ipython3",
   "version": "3.6.8"
  }
 },
 "nbformat": 4,
 "nbformat_minor": 4
}
