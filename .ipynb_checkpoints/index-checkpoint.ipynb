{
 "cells": [
  {
   "cell_type": "markdown",
   "metadata": {},
   "source": [
    "# <h1><center><b>Happy Birthday Patil!</b> </center></h1>  <h5><center><b>Designed By: @bootloader</b> </center></h5>"
   ]
  },
  {
   "cell_type": "code",
   "execution_count": 71,
   "metadata": {},
   "outputs": [],
   "source": [
    "import os\n",
    "from IPython.display import HTML, display"
   ]
  },
  {
   "cell_type": "code",
   "execution_count": 72,
   "metadata": {},
   "outputs": [],
   "source": [
    "videolist = ['intro.mp4','ramanintro.mp4','neelamgunmala.mp4','jeetbhaipatel.mp4','virendertusharmallikarjun.mp4','abhilashpratiksmith.mp4', 'arun.mp4', 'suvil.mp4', 'ankita.mp4', 'laddoo.mp4','mandar.mp4']\n",
    "imagelist = [ 'patil.jpg','raman.png', 'neelam.jpg', 'jeet.jpg','mallik.jpg','abhilash.jpg', 'arun.jpg','suvil.jpg','ankita.jpg',  'laddoo.jpg', 'mandar.jpg']"
   ]
  },
  {
   "cell_type": "code",
   "execution_count": 85,
   "metadata": {},
   "outputs": [],
   "source": [
    "def displayIV(img,vid):\n",
    "    display(HTML(\"\"\"<table><tr><td><img src='Images/{}'  width=\"300\"></td><td><video alt=\"test\"  height=\"300\" controls><source src=\"Videos/{}\" type=\"video/mp4\"></video></td></tr></table>\"\"\".format(img, vid)))"
   ]
  },
  {
   "cell_type": "code",
   "execution_count": 80,
   "metadata": {},
   "outputs": [],
   "source": [
    "def displayIII(img1,img2,img3):\n",
    "    display(HTML(\"\"\"<table><tr><td><img src='Photos/{}'  width=\"300\"></td>\\\n",
    "    <td><img src='Photos/{}'  width=\"300\"></td>\\\n",
    "    <td><img src='Photos/{}'  width=\"300\"></td>\\\n",
    "    </tr></table>\"\"\".format(img1, img2, img3)))"
   ]
  },
  {
   "cell_type": "code",
   "execution_count": 81,
   "metadata": {},
   "outputs": [],
   "source": [
    "def displayIIIV(img1,img2, vid1, vid2,vid3):\n",
    "    display(HTML(\"\"\"<table><tr><td><img src='Images/{}'  width=\"300\"></td>\\\n",
    "    <td><video alt=\"test\"  height=\"300\" controls><source src=\"Videos/{}\" type=\"video/mp4\"></video></td>\\\n",
    "    <td><video alt=\"test\"  height=\"300\" controls><source src=\"Videos/{}\" type=\"video/mp4\"></video></td>\\\n",
    "    <td><img src='Images/{}'  width=\"300\"></td>\\\n",
    "    <td><video alt=\"test\"  height=\"300\" controls><source src=\"Videos/{}\" type=\"video/mp4\"></video></td>\n",
    "    </tr></table>\"\"\".format(img1, vid1, vid2,img2,vid3)))"
   ]
  },
  {
   "cell_type": "code",
   "execution_count": 82,
   "metadata": {},
   "outputs": [],
   "source": [
    "def displayV(vid):\n",
    "    display(HTML(\"\"\"<table><tr><td><video alt=\"test\"  height=\"300\" controls><source src=\"Videos/{}\" type=\"video/mp4\"></video></td></tr></table>\"\"\".format(vid)))"
   ]
  },
  {
   "cell_type": "code",
   "execution_count": 83,
   "metadata": {},
   "outputs": [],
   "source": [
    "def displaySideBySide(img1,vid1,img2,vid2):\n",
    "    display(HTML(\"\"\"<table><tr><td><img src='Images/{}'  width=\"300\"></td><td><video alt=\"test\"  height=\"300\" controls><source src=\"Videos/{}\" type=\"video/mp4\"></video></td> \\\n",
    "                            <td><img src='Images/white.jpg'  width=\"100\"></td><td> \\\n",
    "                            <img src='Images/{}'  width=\"300\"></td><td><video alt=\"test\"  height=\"300\" controls><source src=\"Videos/{}\" type=\"video/mp4\"></video></td></tr></table>\"\"\".format(img1, vid1, img2, vid2)))"
   ]
  },
  {
   "cell_type": "code",
   "execution_count": 84,
   "metadata": {},
   "outputs": [
    {
     "data": {
      "text/html": [
       "<table><tr><td><img src='Images/patil.jpg'  width=\"300\" height=100px></td><td><video alt=\"test\"  height=300px controls><source src=\"Videos/intro.mp4\" type=\"video/mp4\"></video></td></tr></table>"
      ],
      "text/plain": [
       "<IPython.core.display.HTML object>"
      ]
     },
     "metadata": {},
     "output_type": "display_data"
    },
    {
     "data": {
      "text/html": [
       "<table><tr><td><img src='Images/raman.png'  width=\"300\" height=100px></td><td><video alt=\"test\"  height=300px controls><source src=\"Videos/ramanintro.mp4\" type=\"video/mp4\"></video></td></tr></table>"
      ],
      "text/plain": [
       "<IPython.core.display.HTML object>"
      ]
     },
     "metadata": {},
     "output_type": "display_data"
    },
    {
     "data": {
      "text/html": [
       "<table><tr><td><img src='Images/neelam.jpg'  width=\"300\" height=100px></td><td><video alt=\"test\"  height=300px controls><source src=\"Videos/neelamgunmala.mp4\" type=\"video/mp4\"></video></td></tr></table>"
      ],
      "text/plain": [
       "<IPython.core.display.HTML object>"
      ]
     },
     "metadata": {},
     "output_type": "display_data"
    },
    {
     "data": {
      "text/html": [
       "<table><tr><td><img src='Images/jeet.jpg'  width=\"300\" height=100px></td><td><video alt=\"test\"  height=300px controls><source src=\"Videos/jeetbhaipatel.mp4\" type=\"video/mp4\"></video></td></tr></table>"
      ],
      "text/plain": [
       "<IPython.core.display.HTML object>"
      ]
     },
     "metadata": {},
     "output_type": "display_data"
    },
    {
     "data": {
      "text/html": [
       "<table><tr><td><img src='Images/mallik.jpg'  width=\"300\" height=100px></td><td><video alt=\"test\"  height=300px controls><source src=\"Videos/virendertusharmallikarjun.mp4\" type=\"video/mp4\"></video></td></tr></table>"
      ],
      "text/plain": [
       "<IPython.core.display.HTML object>"
      ]
     },
     "metadata": {},
     "output_type": "display_data"
    },
    {
     "data": {
      "text/html": [
       "<table><tr><td><img src='Images/abhilash.jpg'  width=\"300\" height=100px></td><td><video alt=\"test\"  height=300px controls><source src=\"Videos/abhilashpratiksmith.mp4\" type=\"video/mp4\"></video></td></tr></table>"
      ],
      "text/plain": [
       "<IPython.core.display.HTML object>"
      ]
     },
     "metadata": {},
     "output_type": "display_data"
    }
   ],
   "source": [
    "for img, vid in zip(imagelist[:6], videolist[:6]):\n",
    "    displayIV(img, vid)"
   ]
  },
  {
   "cell_type": "markdown",
   "metadata": {},
   "source": [
    "# <h1><center><b>Birthday Wishes from Marvell Semiconductor (Tomar Sahab) and Your Ex Roommate (Suvil)</b></center></h1>"
   ]
  },
  {
   "cell_type": "code",
   "execution_count": 27,
   "metadata": {},
   "outputs": [
    {
     "data": {
      "text/html": [
       "<table><tr><td><img src='Images/arun.jpg'  width=\"300\"></td><td><video alt=\"test\"  height=\"300\" controls><source src=\"Videos/arun.mp4\" type=\"video/mp4\"></video></td>                             <td><img src='Images/white.jpg'  width=\"100\"></td><td>                             <img src='Images/suvil.jpg'  width=\"300\"></td><td><video alt=\"test\"  height=\"300\" controls><source src=\"Videos/suvil.mp4\" type=\"video/mp4\"></video></td></tr></table>"
      ],
      "text/plain": [
       "<IPython.core.display.HTML object>"
      ]
     },
     "metadata": {},
     "output_type": "display_data"
    }
   ],
   "source": [
    "displaySideBySide(imagelist[-5], videolist[-5], imagelist[-4], videolist[-4])"
   ]
  },
  {
   "cell_type": "markdown",
   "metadata": {},
   "source": [
    "# <h1><center><b>Panda and Jain Bhai</b></center></h1>"
   ]
  },
  {
   "cell_type": "code",
   "execution_count": 28,
   "metadata": {},
   "outputs": [
    {
     "data": {
      "text/html": [
       "<table><tr><td><img src='Images/ankita.jpg'  width=\"300\"></td><td><video alt=\"test\"  height=\"300\" controls><source src=\"Videos/ankita.mp4\" type=\"video/mp4\"></video></td>                             <td><img src='Images/white.jpg'  width=\"100\"></td><td>                             <img src='Images/jain.jpg'  width=\"300\"></td><td><video alt=\"test\"  height=\"300\" controls><source src=\"Videos/jain.mp4\" type=\"video/mp4\"></video></td></tr></table>"
      ],
      "text/plain": [
       "<IPython.core.display.HTML object>"
      ]
     },
     "metadata": {},
     "output_type": "display_data"
    }
   ],
   "source": [
    "displaySideBySide(imagelist[-3], videolist[-3], 'jain.jpg', 'jain.mp4')"
   ]
  },
  {
   "cell_type": "markdown",
   "metadata": {},
   "source": [
    "# <h1><center><b>Laddoo and Mandar (@IEDM)</b></center></h1>"
   ]
  },
  {
   "cell_type": "code",
   "execution_count": 29,
   "metadata": {},
   "outputs": [
    {
     "data": {
      "text/html": [
       "<table><tr><td><img src='Images/laddoo.jpg'  width=\"300\"></td><td><video alt=\"test\"  height=\"300\" controls><source src=\"Videos/laddoo.mp4\" type=\"video/mp4\"></video></td>                             <td><img src='Images/white.jpg'  width=\"100\"></td><td>                             <img src='Images/mandar.jpg'  width=\"300\"></td><td><video alt=\"test\"  height=\"300\" controls><source src=\"Videos/mandar.mp4\" type=\"video/mp4\"></video></td></tr></table>"
      ],
      "text/plain": [
       "<IPython.core.display.HTML object>"
      ]
     },
     "metadata": {},
     "output_type": "display_data"
    }
   ],
   "source": [
    "displaySideBySide(imagelist[-2], videolist[-2], imagelist[-1], videolist[-1])"
   ]
  },
  {
   "cell_type": "markdown",
   "metadata": {},
   "source": [
    "# <h1><center><b>Saki and Dada Ji</b></center></h1>"
   ]
  },
  {
   "cell_type": "code",
   "execution_count": 30,
   "metadata": {},
   "outputs": [
    {
     "data": {
      "text/html": [
       "<table><tr><td><img src='Images/pushpak.jpg'  width=\"300\"></td><td><video alt=\"test\"  height=\"300\" controls><source src=\"Videos/pushpak.mp4\" type=\"video/mp4\"></video></td>                             <td><img src='Images/white.jpg'  width=\"100\"></td><td>                             <img src='Images/naveen.jpg'  width=\"300\"></td><td><video alt=\"test\"  height=\"300\" controls><source src=\"Videos/naveen.mp4\" type=\"video/mp4\"></video></td></tr></table>"
      ],
      "text/plain": [
       "<IPython.core.display.HTML object>"
      ]
     },
     "metadata": {},
     "output_type": "display_data"
    }
   ],
   "source": [
    "displaySideBySide('pushpak.jpg', 'pushpak.mp4', 'naveen.jpg', 'naveen.mp4')"
   ]
  },
  {
   "cell_type": "markdown",
   "metadata": {},
   "source": [
    "# <h1><center><b>Tiwari Ji and bandar</b></center></h1>"
   ]
  },
  {
   "cell_type": "code",
   "execution_count": 31,
   "metadata": {},
   "outputs": [
    {
     "data": {
      "text/html": [
       "<table><tr><td><img src='Images/gyan.jpg'  width=\"300\"></td><td><video alt=\"test\"  height=\"300\" controls><source src=\"Videos/tiwariji.mp4\" type=\"video/mp4\"></video></td>                             <td><img src='Images/white.jpg'  width=\"100\"></td><td>                             <img src='Images/jeet.jpg'  width=\"300\"></td><td><video alt=\"test\"  height=\"300\" controls><source src=\"Videos/jeetbhaipatel2.mp4\" type=\"video/mp4\"></video></td></tr></table>"
      ],
      "text/plain": [
       "<IPython.core.display.HTML object>"
      ]
     },
     "metadata": {},
     "output_type": "display_data"
    }
   ],
   "source": [
    "displaySideBySide('gyan.jpg', 'tiwariji.mp4', 'jeet.jpg', 'jeetbhaipatel2.mp4')"
   ]
  },
  {
   "cell_type": "markdown",
   "metadata": {},
   "source": [
    "# <h1><center><b>Rajat and Kaddoo</b></center></h1>"
   ]
  },
  {
   "cell_type": "code",
   "execution_count": 32,
   "metadata": {},
   "outputs": [
    {
     "data": {
      "text/html": [
       "<table><tr><td><img src='Images/rajat.jpg'  width=\"300\"></td><td><video alt=\"test\"  height=\"300\" controls><source src=\"Videos/rajat.mp4\" type=\"video/mp4\"></video></td>                             <td><img src='Images/white.jpg'  width=\"100\"></td><td>                             <img src='Images/anoop.jpg'  width=\"300\"></td><td><video alt=\"test\"  height=\"300\" controls><source src=\"Videos/anoop.mp4\" type=\"video/mp4\"></video></td></tr></table>"
      ],
      "text/plain": [
       "<IPython.core.display.HTML object>"
      ]
     },
     "metadata": {},
     "output_type": "display_data"
    }
   ],
   "source": [
    "displaySideBySide('rajat.jpg', 'rajat.mp4', 'anoop.jpg', 'anoop.mp4')"
   ]
  },
  {
   "cell_type": "markdown",
   "metadata": {},
   "source": [
    "# <h1><center><b>Sarath Bhai and Ravins</b></center></h1>"
   ]
  },
  {
   "cell_type": "code",
   "execution_count": 33,
   "metadata": {},
   "outputs": [
    {
     "data": {
      "text/html": [
       "<table><tr><td><img src='Images/sarath.jpg'  width=\"300\"></td><td><video alt=\"test\"  height=\"300\" controls><source src=\"Videos/sarath.mp4\" type=\"video/mp4\"></video></td>                             <td><img src='Images/white.jpg'  width=\"100\"></td><td>                             <img src='Images/ravins.jpg'  width=\"300\"></td><td><video alt=\"test\"  height=\"300\" controls><source src=\"Videos/ravins.mp4\" type=\"video/mp4\"></video></td></tr></table>"
      ],
      "text/plain": [
       "<IPython.core.display.HTML object>"
      ]
     },
     "metadata": {},
     "output_type": "display_data"
    }
   ],
   "source": [
    "displaySideBySide('sarath.jpg', 'sarath.mp4', 'ravins.jpg', 'ravins.mp4')"
   ]
  },
  {
   "cell_type": "markdown",
   "metadata": {},
   "source": [
    "# <h1><center><b>Some Special Friends from LNCT</b></center></h1>"
   ]
  },
  {
   "cell_type": "code",
   "execution_count": 39,
   "metadata": {},
   "outputs": [
    {
     "data": {
      "text/html": [
       "<table><tr><td><img src='Images/aditi.jpg'  width=\"300\"></td>    <td><video alt=\"test\"  height=\"300\" controls><source src=\"Videos/aditi1.mp4\" type=\"video/mp4\"></video></td>    <td><video alt=\"test\"  height=\"300\" controls><source src=\"Videos/aditi2.mp4\" type=\"video/mp4\"></video></td>    <td><img src='Images/dipesh.jpg'  width=\"300\"></td>    <td><video alt=\"test\"  height=\"300\" controls><source src=\"Videos/friend1.mp4\" type=\"video/mp4\"></video></td>\n",
       "    </tr></table>"
      ],
      "text/plain": [
       "<IPython.core.display.HTML object>"
      ]
     },
     "metadata": {},
     "output_type": "display_data"
    }
   ],
   "source": [
    "displayIIIV('aditi.jpg','dipesh.jpg','aditi1.mp4','aditi2.mp4','friend1.mp4')"
   ]
  },
  {
   "cell_type": "markdown",
   "metadata": {},
   "source": [
    "# <h1><center><b>Babu Bhaiya, KP along with Bachchan Sab</b></center></h1>"
   ]
  },
  {
   "cell_type": "code",
   "execution_count": 22,
   "metadata": {},
   "outputs": [
    {
     "data": {
      "text/html": [
       "<table><tr><td><img src='Images/aishwarya.jpg'  width=\"300\"></td><td><video alt=\"test\"  height=\"300\" controls><source src=\"Videos/aishwarya.mp4\" type=\"video/mp4\"></video></td></tr></table>"
      ],
      "text/plain": [
       "<IPython.core.display.HTML object>"
      ]
     },
     "metadata": {},
     "output_type": "display_data"
    }
   ],
   "source": [
    "displayIV('aishwarya.jpg','aishwarya.mp4')"
   ]
  },
  {
   "cell_type": "markdown",
   "metadata": {},
   "source": [
    "# <h1><center><b>Miscellaneous</b></center></h1>"
   ]
  },
  {
   "cell_type": "code",
   "execution_count": 60,
   "metadata": {},
   "outputs": [
    {
     "data": {
      "text/html": [
       "<table><tr><td><img src='Images/patil3.jpg'  width=\"300\"></td><td><video alt=\"test\"  height=\"300\" controls><source src=\"Videos/misc1.mp4\" type=\"video/mp4\"></video></td></tr></table>"
      ],
      "text/plain": [
       "<IPython.core.display.HTML object>"
      ]
     },
     "metadata": {},
     "output_type": "display_data"
    }
   ],
   "source": [
    "displayIV('patil3.jpg','misc1.mp4')"
   ]
  },
  {
   "cell_type": "markdown",
   "metadata": {},
   "source": [
    "# <h1><center><b>Miscellaneous Lamhe</b></center></h1>"
   ]
  },
  {
   "cell_type": "code",
   "execution_count": 55,
   "metadata": {},
   "outputs": [],
   "source": [
    "import re\n",
    "\n",
    "_nsre = re.compile('([0-9]+)')\n",
    "def natural_sort_key(s):\n",
    "    return [int(text) if text.isdigit() else text.lower()\n",
    "            for text in re.split(_nsre, s)] "
   ]
  },
  {
   "cell_type": "code",
   "execution_count": 56,
   "metadata": {},
   "outputs": [],
   "source": [
    "imlist = os.listdir('Photos')\n",
    "imlist.sort(key = natural_sort_key) "
   ]
  },
  {
   "cell_type": "code",
   "execution_count": 58,
   "metadata": {},
   "outputs": [
    {
     "data": {
      "text/html": [
       "<table><tr><td><img src='Photos/img0.jpg'  width=\"300\"></td>    <td><img src='Photos/img1.jpg'  width=\"300\"></td>    <td><img src='Photos/img2.jpg'  width=\"300\"></td>    </tr></table>"
      ],
      "text/plain": [
       "<IPython.core.display.HTML object>"
      ]
     },
     "metadata": {},
     "output_type": "display_data"
    },
    {
     "data": {
      "text/html": [
       "<table><tr><td><img src='Photos/img3.jpg'  width=\"300\"></td>    <td><img src='Photos/img4.jpg'  width=\"300\"></td>    <td><img src='Photos/img5.jpg'  width=\"300\"></td>    </tr></table>"
      ],
      "text/plain": [
       "<IPython.core.display.HTML object>"
      ]
     },
     "metadata": {},
     "output_type": "display_data"
    },
    {
     "data": {
      "text/html": [
       "<table><tr><td><img src='Photos/img6.jpg'  width=\"300\"></td>    <td><img src='Photos/img7.jpg'  width=\"300\"></td>    <td><img src='Photos/img8.jpg'  width=\"300\"></td>    </tr></table>"
      ],
      "text/plain": [
       "<IPython.core.display.HTML object>"
      ]
     },
     "metadata": {},
     "output_type": "display_data"
    },
    {
     "data": {
      "text/html": [
       "<table><tr><td><img src='Photos/img9.jpg'  width=\"300\"></td>    <td><img src='Photos/img11.jpg'  width=\"300\"></td>    <td><img src='Photos/img12.jpg'  width=\"300\"></td>    </tr></table>"
      ],
      "text/plain": [
       "<IPython.core.display.HTML object>"
      ]
     },
     "metadata": {},
     "output_type": "display_data"
    },
    {
     "data": {
      "text/html": [
       "<table><tr><td><img src='Photos/img13.jpg'  width=\"300\"></td>    <td><img src='Photos/img14.jpg'  width=\"300\"></td>    <td><img src='Photos/img15.jpg'  width=\"300\"></td>    </tr></table>"
      ],
      "text/plain": [
       "<IPython.core.display.HTML object>"
      ]
     },
     "metadata": {},
     "output_type": "display_data"
    },
    {
     "data": {
      "text/html": [
       "<table><tr><td><img src='Photos/img16.jpg'  width=\"300\"></td>    <td><img src='Photos/img17.jpg'  width=\"300\"></td>    <td><img src='Photos/img18.jpg'  width=\"300\"></td>    </tr></table>"
      ],
      "text/plain": [
       "<IPython.core.display.HTML object>"
      ]
     },
     "metadata": {},
     "output_type": "display_data"
    },
    {
     "data": {
      "text/html": [
       "<table><tr><td><img src='Photos/img19.jpg'  width=\"300\"></td>    <td><img src='Photos/img20.jpg'  width=\"300\"></td>    <td><img src='Photos/img21.jpg'  width=\"300\"></td>    </tr></table>"
      ],
      "text/plain": [
       "<IPython.core.display.HTML object>"
      ]
     },
     "metadata": {},
     "output_type": "display_data"
    },
    {
     "data": {
      "text/html": [
       "<table><tr><td><img src='Photos/img22.jpg'  width=\"300\"></td>    <td><img src='Photos/img23.jpg'  width=\"300\"></td>    <td><img src='Photos/img24.jpg'  width=\"300\"></td>    </tr></table>"
      ],
      "text/plain": [
       "<IPython.core.display.HTML object>"
      ]
     },
     "metadata": {},
     "output_type": "display_data"
    },
    {
     "data": {
      "text/html": [
       "<table><tr><td><img src='Photos/img25.jpg'  width=\"300\"></td>    <td><img src='Photos/img26.jpg'  width=\"300\"></td>    <td><img src='Photos/img27.jpg'  width=\"300\"></td>    </tr></table>"
      ],
      "text/plain": [
       "<IPython.core.display.HTML object>"
      ]
     },
     "metadata": {},
     "output_type": "display_data"
    },
    {
     "data": {
      "text/html": [
       "<table><tr><td><img src='Photos/img28.jpg'  width=\"300\"></td>    <td><img src='Photos/img30.jpg'  width=\"300\"></td>    <td><img src='Photos/img31.jpg'  width=\"300\"></td>    </tr></table>"
      ],
      "text/plain": [
       "<IPython.core.display.HTML object>"
      ]
     },
     "metadata": {},
     "output_type": "display_data"
    },
    {
     "data": {
      "text/html": [
       "<table><tr><td><img src='Photos/img32.jpg'  width=\"300\"></td>    <td><img src='Photos/img33.jpg'  width=\"300\"></td>    <td><img src='Photos/img34.jpg'  width=\"300\"></td>    </tr></table>"
      ],
      "text/plain": [
       "<IPython.core.display.HTML object>"
      ]
     },
     "metadata": {},
     "output_type": "display_data"
    }
   ],
   "source": [
    "for i in range(0,33,3):\n",
    "    displayIII(imlist[i],imlist[i+1],imlist[i+2])"
   ]
  },
  {
   "cell_type": "code",
   "execution_count": null,
   "metadata": {},
   "outputs": [],
   "source": []
  }
 ],
 "metadata": {
  "kernelspec": {
   "display_name": "Python 3",
   "language": "python",
   "name": "python3"
  },
  "language_info": {
   "codemirror_mode": {
    "name": "ipython",
    "version": 3
   },
   "file_extension": ".py",
   "mimetype": "text/x-python",
   "name": "python",
   "nbconvert_exporter": "python",
   "pygments_lexer": "ipython3",
   "version": "3.6.8"
  }
 },
 "nbformat": 4,
 "nbformat_minor": 4
}
